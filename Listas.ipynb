{
  "nbformat": 4,
  "nbformat_minor": 0,
  "metadata": {
    "colab": {
      "provenance": [],
      "authorship_tag": "ABX9TyP7LlYgI6B57Jtrz58QPMzm",
      "include_colab_link": true
    },
    "kernelspec": {
      "name": "python3",
      "display_name": "Python 3"
    },
    "language_info": {
      "name": "python"
    }
  },
  "cells": [
    {
      "cell_type": "markdown",
      "metadata": {
        "id": "view-in-github",
        "colab_type": "text"
      },
      "source": [
        "<a href=\"https://colab.research.google.com/github/Danner77/listas/blob/main/Listas.ipynb\" target=\"_parent\"><img src=\"https://colab.research.google.com/assets/colab-badge.svg\" alt=\"Open In Colab\"/></a>"
      ]
    },
    {
      "cell_type": "markdown",
      "source": [
        "#Listas\n",
        "- Una lista hace referencia a una coleccion de datos que pueden ser numeros, cadenas o algun otro tipo\n",
        "- Son coleciones ordenadas de datos, lo que implica que importa el orden en el cualse encuentran sus elementos.\n",
        "- El primer elemento ocupa la psicion 0, el segundo la 1 y asi sucesivamente.\n",
        "- Son mutables: una vez creada la lista, esta puede modificarse, se le pueden agregar o quitar elementos.\n",
        "- En python estan representas por el tipo ***list*** y para definirlas se utiliza la siguiente sintaxis:\n",
        "\n",
        "```nombre_lista = [valor1, valor2,..., valorn]```\n",
        "- Los elementos de una lista pueden ser de cualquier tipo, incluso haber tipos diferentes en una misma lista.\n",
        "- Tambien es posible crear usando el constructror ```list()```"
      ],
      "metadata": {
        "id": "ElyLZr7xCjT5"
      }
    },
    {
      "cell_type": "code",
      "execution_count": null,
      "metadata": {
        "id": "nhGOi6iKCcD2"
      },
      "outputs": [],
      "source": [
        "# Ejemplo 1\n",
        "\n",
        "#\n",
        "# Usando los [] y dando valores para analizar las listas\n",
        "#\n",
        "\n",
        "dias_laborales = [\"Lunes\", \"Martes\", \"Miercoles\", \"Jueves\", \"Viernes\"]\n",
        "print(dias_laborales)\n",
        "\n",
        "colores_primarios = [\"Rojo\", \"Amarillo\", \"Azul\"]\n",
        "print(colores_primarios)\n",
        "\n",
        "precios = [ 250.30, 107.18, 25, 450, 310.89, 170.23, 340]\n",
        "print(precios)\n",
        "print(type(precios))\n",
        "mezcolanza = [12, `octubre`, 1492, True]\n",
        "lista_vacia = []\n",
        "\n",
        "#\n",
        "# Usando el constructor list()\n",
        "#\n",
        "lista_vacia_2 = list()\n",
        "lista_3 = (range(0,30,2))\n",
        "print(lista_3)\n",
        "lista_4 = list(range(29,0,-2))\n",
        "print(lista_4)\n",
        "lista_5 = list(range(Daniel Andres))\n",
        "print(lista_5)\n",
        "frase = `Daniel Andres villar ortiz`\n",
        "\n",
        "print(lis)"
      ]
    },
    {
      "cell_type": "markdown",
      "source": [
        "## operaciones\n",
        "\n",
        "### operador +\n",
        "\n",
        "- concatenar o pegar los elementos de una lista al final de otra.\n",
        "\n",
        "### operador *\n",
        "\n"
      ],
      "metadata": {
        "id": "BICN3f6VRAGX"
      }
    },
    {
      "cell_type": "code",
      "source": [
        "dias_laborales = [\"Lunes\", \"Martes\", \"Miercoles\", \"Jueves\", \"Viernes\"]\n",
        "\n",
        "colores_primarios = [\"Rojo\", \"Amarillo\", \"Azul\"]\n",
        "\n",
        "precios = [ 250.30, 107.18, 25, 450, 310.89, 170.23, 340]\n",
        "\n",
        "# Acceso a los elementos de una lista\n",
        "\n",
        "print(dias_laborales[0])\n",
        "print(dias_laborales[-1])\n",
        "print(dias_laborales[-5])\n",
        "\n",
        "# Operador +\n",
        "\n",
        "fin_semana = [ \"Sabado\", \"Domingo\"]\n",
        "fin_de_semana = dias_laborales + fin_semana\n",
        "print(fin_de_semana)\n",
        "\n",
        "# Operador *\n",
        " colores repetidos = colores_primarios * 3\n",
        " print(colores_repetidos)\n",
        "#"
      ],
      "metadata": {
        "id": "JnL19MnTR39t"
      },
      "execution_count": null,
      "outputs": []
    },
    {
      "cell_type": "markdown",
      "source": [
        "## fuciones asociadas a las listas"
      ],
      "metadata": {
        "id": "7v8qggHpUKvV"
      }
    },
    {
      "cell_type": "code",
      "source": [
        "dias_laborales = [\"Lunes\", \"Martes\", \"Miercoles\", \"Jueves\", \"Viernes\"]\n",
        "\n",
        "colores_primarios = [\"Rojo\", \"Amarillo\", \"Azul\"]\n",
        "\n",
        "precios = [ 250.30, 107.18, 25, 450, 310.89, 170.23, 340]\n",
        "\n",
        "lista_3 = (range(0,30,2))\n",
        "\n",
        "lista_4 = list(range(29,0,-2))\n",
        "\n",
        "colores_repetidos = colores_primarios * 3\n",
        "\n",
        "# append(): agrega un elemento al final de la lista\n",
        "dias_laborales.append(\"sabado\")\n",
        "print(dias_laborales)\n",
        "\n",
        "# len(): total de elementos de una lista\n",
        "print('total de precios = ', len (precios))\n",
        "\n",
        "# count (): cuenta el numero de veces que aparece un elemento en la lista:\n",
        "print (f \"El lunes aparece {dias_laborales.count('Lunes')} veces\")\n",
        "\n",
        "# insert(): agrega en la posicion indicada por el nuevo valor, desplazando los demas elementos hacia la derecha. si el indice es al tamaño de la lista, lo agrega al final\n",
        "colores_primarios.insert(1, \"Verde\")\n",
        "print(colores_primarios)\n",
        "\n",
        "\n",
        "# remove(): quita el elememto de la lista. si el elemento no esta lanza una exepcion.\n",
        "dias_laborales.remove(\"sabado\")\n",
        "print(dias_laborales)\n",
        "\n",
        "# sort() ordna la lista de mayor a menor\n",
        "precios.sort()\n",
        "print(precios)\n",
        "precios.sort(reverse=True)\n",
        "print(precios)\n",
        "\n",
        "# reverse():\n",
        "\n",
        "# pop():\n",
        "\n",
        "# clear():\n",
        "\n",
        "# del"
      ],
      "metadata": {
        "id": "Hw_XX-CbUVc6"
      },
      "execution_count": null,
      "outputs": []
    },
    {
      "cell_type": "markdown",
      "source": [
        "## partcion o division de listas (slicing o rebanadas)\n",
        "- se puede generar sublistas a partir de una lista por medio de la participacion\n",
        "(division) o slicing\n",
        "- para obtener una sublista se usa la sintaxis: sublista = lista ```[inicio:fin:n]```"
      ],
      "metadata": {
        "id": "C49EHReif7SV"
      }
    },
    {
      "cell_type": "code",
      "source": [
        "from re import sub\n",
        "# se crea una lista de numeros enteros\n",
        "lista 1 = [1,2,3,4,5,6]\n",
        "\n",
        "# sublista con los elementos de las posiciones 0 a la 2 inclusive\n",
        "sublista = lista_1[0:3]\n",
        "print(sublista)\n",
        "\n",
        "# sublista con los elementos o a la 3 inclusive\n",
        "sublista_2 = lista_1 [:4 ]\n",
        "print(sublista_ 2)\n",
        "\n",
        "#sublista con los elementos 3 a la 5\n",
        "sublista 3 = lista  1[3:]\n",
        "print(sublista_3)\n",
        "\n",
        "# sublista con los elementos desde el principo hasta el final, con saltos de a 2\n",
        "sublista_4 = lista 1 [::2]\n",
        "print(sublista_4)"
      ],
      "metadata": {
        "id": "qzkKoX4EhA5z"
      },
      "execution_count": null,
      "outputs": []
    }
  ]
}